{
 "cells": [
  {
   "cell_type": "code",
   "id": "initial_id",
   "metadata": {
    "collapsed": true,
    "ExecuteTime": {
     "end_time": "2025-04-02T06:27:38.910564Z",
     "start_time": "2025-04-02T06:27:33.262794Z"
    }
   },
   "source": [
    "import  pandas as pd\n",
    "import numpy as np\n",
    "import sklearn as sk"
   ],
   "outputs": [],
   "execution_count": 2
  },
  {
   "metadata": {},
   "cell_type": "code",
   "outputs": [],
   "execution_count": null,
   "source": "",
   "id": "8ddc7e34ab759ee0"
  },
  {
   "metadata": {
    "ExecuteTime": {
     "end_time": "2025-04-02T06:27:41.714212Z",
     "start_time": "2025-04-02T06:27:41.603240Z"
    }
   },
   "cell_type": "code",
   "source": [
    "data_soci = pd.read_csv('datos_socioecomicos.csv')\n",
    "data_soci.head()"
   ],
   "id": "8b58940451160c73",
   "outputs": [
    {
     "data": {
      "text/plain": [
       "   id_persona genero  edad  nacionalidad  categoria_municipio  ingresos  \\\n",
       "0           1   otro    23             1                    2   2485189   \n",
       "1           2      m    30             1                    6   2608735   \n",
       "2           3   otro    40             1                    2   6707869   \n",
       "3           4   otro    26             2                    4  13526365   \n",
       "4           5      m    34             1                    6  11332100   \n",
       "\n",
       "       actividad  \n",
       "0     Estudiante  \n",
       "1     Estudiante  \n",
       "2  Independiente  \n",
       "3  Independiente  \n",
       "4    Ama de casa  "
      ],
      "text/html": [
       "<div>\n",
       "<style scoped>\n",
       "    .dataframe tbody tr th:only-of-type {\n",
       "        vertical-align: middle;\n",
       "    }\n",
       "\n",
       "    .dataframe tbody tr th {\n",
       "        vertical-align: top;\n",
       "    }\n",
       "\n",
       "    .dataframe thead th {\n",
       "        text-align: right;\n",
       "    }\n",
       "</style>\n",
       "<table border=\"1\" class=\"dataframe\">\n",
       "  <thead>\n",
       "    <tr style=\"text-align: right;\">\n",
       "      <th></th>\n",
       "      <th>id_persona</th>\n",
       "      <th>genero</th>\n",
       "      <th>edad</th>\n",
       "      <th>nacionalidad</th>\n",
       "      <th>categoria_municipio</th>\n",
       "      <th>ingresos</th>\n",
       "      <th>actividad</th>\n",
       "    </tr>\n",
       "  </thead>\n",
       "  <tbody>\n",
       "    <tr>\n",
       "      <th>0</th>\n",
       "      <td>1</td>\n",
       "      <td>otro</td>\n",
       "      <td>23</td>\n",
       "      <td>1</td>\n",
       "      <td>2</td>\n",
       "      <td>2485189</td>\n",
       "      <td>Estudiante</td>\n",
       "    </tr>\n",
       "    <tr>\n",
       "      <th>1</th>\n",
       "      <td>2</td>\n",
       "      <td>m</td>\n",
       "      <td>30</td>\n",
       "      <td>1</td>\n",
       "      <td>6</td>\n",
       "      <td>2608735</td>\n",
       "      <td>Estudiante</td>\n",
       "    </tr>\n",
       "    <tr>\n",
       "      <th>2</th>\n",
       "      <td>3</td>\n",
       "      <td>otro</td>\n",
       "      <td>40</td>\n",
       "      <td>1</td>\n",
       "      <td>2</td>\n",
       "      <td>6707869</td>\n",
       "      <td>Independiente</td>\n",
       "    </tr>\n",
       "    <tr>\n",
       "      <th>3</th>\n",
       "      <td>4</td>\n",
       "      <td>otro</td>\n",
       "      <td>26</td>\n",
       "      <td>2</td>\n",
       "      <td>4</td>\n",
       "      <td>13526365</td>\n",
       "      <td>Independiente</td>\n",
       "    </tr>\n",
       "    <tr>\n",
       "      <th>4</th>\n",
       "      <td>5</td>\n",
       "      <td>m</td>\n",
       "      <td>34</td>\n",
       "      <td>1</td>\n",
       "      <td>6</td>\n",
       "      <td>11332100</td>\n",
       "      <td>Ama de casa</td>\n",
       "    </tr>\n",
       "  </tbody>\n",
       "</table>\n",
       "</div>"
      ]
     },
     "execution_count": 3,
     "metadata": {},
     "output_type": "execute_result"
    }
   ],
   "execution_count": 3
  }
 ],
 "metadata": {
  "kernelspec": {
   "display_name": "Python 3",
   "language": "python",
   "name": "python3"
  },
  "language_info": {
   "codemirror_mode": {
    "name": "ipython",
    "version": 2
   },
   "file_extension": ".py",
   "mimetype": "text/x-python",
   "name": "python",
   "nbconvert_exporter": "python",
   "pygments_lexer": "ipython2",
   "version": "2.7.6"
  }
 },
 "nbformat": 4,
 "nbformat_minor": 5
}
